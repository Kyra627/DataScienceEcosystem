{
 "cells": [
  {
   "cell_type": "markdown",
   "id": "4b05c261-80ee-45ed-8125-e4e075ba8929",
   "metadata": {},
   "source": [
    "# Data Science Tools and Ecosystem"
   ]
  },
  {
   "cell_type": "markdown",
   "id": "a49ab66d-5ee5-4afc-9587-b3e47498cadc",
   "metadata": {},
   "source": [
    "In this notebook, Data Science Tools and Ecosystem are summarized."
   ]
  },
  {
   "cell_type": "markdown",
   "id": "c1499259-180e-4574-9341-2ba9612354cb",
   "metadata": {},
   "source": [
    "**Objectives:**\n",
    "- List popular languages of Data Science\n",
    "- List popular libraries of Data Science\n",
    "- List tools used by Data Scientists\n",
    "- Exhibit Python's arithmetic abilities using JupyterNotebook"
   ]
  },
  {
   "cell_type": "markdown",
   "id": "49b859ef-9f6c-4e43-be1b-e6244c71e111",
   "metadata": {},
   "source": [
    "Some of the popular languages that Data Scientists use are:\n",
    "1. Python\n",
    "2. R\n",
    "3. Julia"
   ]
  },
  {
   "cell_type": "markdown",
   "id": "55c6399a-5c61-42e7-9330-3064cb108757",
   "metadata": {},
   "source": [
    "Some of the commonly used libraries used by Data Scientists include:\n",
    "1. Matplotlib\n",
    "2. Ggplot\n",
    "3. Pandas"
   ]
  },
  {
   "cell_type": "markdown",
   "id": "d9401bbe-14d5-4a01-b0c4-f884493590e9",
   "metadata": {},
   "source": [
    "| Data Science Tools |\n",
    "|-------------------|\n",
    "| JupyterLab |\n",
    "| RStudio |\n",
    "| Github |"
   ]
  },
  {
   "cell_type": "markdown",
   "id": "ee79c1e6-2283-44c3-a6d3-c21804098e46",
   "metadata": {},
   "source": [
    "### Below are a few examples of evaluating arithmetic expressions in Python"
   ]
  },
  {
   "cell_type": "code",
   "execution_count": 10,
   "id": "d0916418-2a8c-46eb-9a78-c8d601900726",
   "metadata": {},
   "outputs": [
    {
     "data": {
      "text/plain": [
       "17"
      ]
     },
     "execution_count": 10,
     "metadata": {},
     "output_type": "execute_result"
    }
   ],
   "source": [
    "# This a simple arithmetic expression to multiply then add integers\n",
    "\n",
    "(3*4)+5"
   ]
  },
  {
   "cell_type": "code",
   "execution_count": 12,
   "id": "aaf15cc3-3ba1-47d8-937c-a83f009563d6",
   "metadata": {},
   "outputs": [
    {
     "data": {
      "text/plain": [
       "3.3333333333333335"
      ]
     },
     "execution_count": 12,
     "metadata": {},
     "output_type": "execute_result"
    }
   ],
   "source": [
    "# This will convert 200 minutes to hours by diving by 60\n",
    "\n",
    "200/60"
   ]
  },
  {
   "cell_type": "markdown",
   "id": "24debe2a-8cbb-4c30-ad8f-a88169975e5b",
   "metadata": {},
   "source": [
    "## Author\n",
    "Kyra Kennedy"
   ]
  },
  {
   "cell_type": "code",
   "execution_count": null,
   "id": "8f5f7a48-d1d9-4f47-9332-dcc30bc275c4",
   "metadata": {},
   "outputs": [],
   "source": []
  }
 ],
 "metadata": {
  "kernelspec": {
   "display_name": "anaconda-ai-2024.04-py310",
   "language": "python",
   "name": "conda-env-anaconda-ai-2024.04-py310-py"
  },
  "language_info": {
   "codemirror_mode": {
    "name": "ipython",
    "version": 3
   },
   "file_extension": ".py",
   "mimetype": "text/x-python",
   "name": "python",
   "nbconvert_exporter": "python",
   "pygments_lexer": "ipython3",
   "version": "3.10.13"
  }
 },
 "nbformat": 4,
 "nbformat_minor": 5
}
